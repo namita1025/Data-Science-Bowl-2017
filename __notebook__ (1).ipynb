{
 "cells": [
  {
   "cell_type": "markdown",
   "metadata": {
    "_cell_guid": "862a54e4-0989-4d7d-8a4d-433d6e27c2af",
    "_uuid": "796996361bd2f475aa453e0dc0c3ff669f23855b"
   },
   "source": [
    "In this EDA I will perform hierarchical clustering of the scans in the sample subset based on the frequency of pixels with given radiodensitites (binning Hounsfield Units [HU]). I will display a heatmap showing the different frequencies of the HU bins. Finally, we will look to see if the clusters formed distinguish between scans with and without cancer. I do not expect this simple clustering to be able to discriminate between cancerous and non-cancerous scans, especially when performed on this small subset of the data, but it is an exercise to become comfortable with the data type, the Hounsfield Unit scale, and the notion that there will be an association between pixel values and diagnosis. Ultimately, I plan to rely on convolutional neural networks to learn diagnosis from the images."
   ]
  },
  {
   "cell_type": "markdown",
   "metadata": {},
   "source": [
    "I will use some of the same pre-processing code which I described in the EDA 1 notebook to read in the DICOM files and convert the pixels to HU."
   ]
  },
  {
   "cell_type": "code",
   "execution_count": 14,
   "metadata": {
    "_cell_guid": "364203ff-65fe-494c-80c2-d6666081b243",
    "_uuid": "fd44e890f778485e476015adcbf335752bc5e110",
    "collapsed": true,
    "scrolled": true
   },
   "outputs": [],
   "source": [
    "%matplotlib inline\n",
    "\n",
    "import numpy as np \n",
    "import pandas as pd\n",
    "import dicom\n",
    "import os\n",
    "import scipy.ndimage\n",
    "import matplotlib.pyplot as plt\n",
    "import seaborn as sns;\n",
    "\n",
    "from skimage import measure, morphology\n",
    "from mpl_toolkits.mplot3d.art3d import Poly3DCollection\n",
    "\n",
    "# Some constants \n",
    "INPUT_FOLDER = '../input/sample_images/'\n",
    "patients = os.listdir(INPUT_FOLDER)\n",
    "patients.sort()"
   ]
  },
  {
   "cell_type": "code",
   "execution_count": 2,
   "metadata": {
    "_cell_guid": "21e262e3-138f-473b-8159-87f805949adc",
    "_uuid": "f9adae9c06b06b1ae1b41c340f575d774203dfab",
    "collapsed": true
   },
   "outputs": [],
   "source": [
    "# This function will load the scan for a given patient and infer the slice thickness for each scan\n",
    "def load_scan(path):\n",
    "    slices = [dicom.read_file(path + '/' + s) for s in os.listdir(path)]\n",
    "    slices.sort(key = lambda x: float(x.ImagePositionPatient[2]))\n",
    "    try:\n",
    "        slice_thickness = np.abs(slices[0].ImagePositionPatient[2] - slices[1].ImagePositionPatient[2])\n",
    "    except:\n",
    "        slice_thickness = np.abs(slices[0].SliceLocation - slices[1].SliceLocation)\n",
    "        \n",
    "    for s in slices:\n",
    "        s.SliceThickness = slice_thickness\n",
    "        \n",
    "    return slices"
   ]
  },
  {
   "cell_type": "code",
   "execution_count": 3,
   "metadata": {
    "_cell_guid": "94d27f90-ed13-4f43-9fa8-ed2fc2fef723",
    "_uuid": "a9af7283432dceffe7e0f9a1713eef264d00ae7d",
    "collapsed": true
   },
   "outputs": [],
   "source": [
    "# This function will convert pixels to Hounsfield Units\n",
    "def get_pixels_hu(slices):\n",
    "    image = np.stack([s.pixel_array for s in slices]) #make 3D arrays combining all slices for each patient \n",
    "    image = image.astype(np.int16) #convert to int16\n",
    "\n",
    "    # Pixels that were outside the scanning bounds have been set to -2000\n",
    "    # Reset to have HU of air = 0\n",
    "    image[image == -2000] = 0\n",
    "    \n",
    "    # Convert to Hounsfield units (HU)\n",
    "    for slice_number in range(len(slices)):\n",
    "        \n",
    "        intercept = slices[slice_number].RescaleIntercept #RescaleIntercept included in metadata of pic\n",
    "        slope = slices[slice_number].RescaleSlope #RescaleIntercept included in metadata of pic\n",
    "        \n",
    "        if slope != 1:\n",
    "            image[slice_number] = slope * image[slice_number].astype(np.float64)\n",
    "            image[slice_number] = image[slice_number].astype(np.int16)\n",
    "            \n",
    "        image[slice_number] += np.int16(intercept)\n",
    "    \n",
    "    return np.array(image, dtype=np.int16)"
   ]
  },
  {
   "cell_type": "markdown",
   "metadata": {
    "_cell_guid": "d811b1f4-95db-41e4-b8f4-2e988050f7d3",
    "_uuid": "030865967f8d6f35db48f15c32565178841f9207"
   },
   "source": [
    "Read in each of 20 images and change to HU scale."
   ]
  },
  {
   "cell_type": "code",
   "execution_count": 7,
   "metadata": {
    "_cell_guid": "4b53b967-7bb4-4430-a80f-55f671d80d72",
    "_uuid": "a96f4fa1960b0addac24e0146e41ef59c0373f40",
    "scrolled": false
   },
   "outputs": [],
   "source": [
    "allscans = []\n",
    "allhu = []\n",
    "for patient in patients:\n",
    "    patient_scan = load_scan(INPUT_FOLDER + patient)\n",
    "    allscans.append(patient_scan)\n",
    "    patient_hu = get_pixels_hu(patient_scan)\n",
    "    allhu.append(patient_hu)"
   ]
  },
  {
   "cell_type": "markdown",
   "metadata": {},
   "source": [
    "Flatten each patients scan to a single vector."
   ]
  },
  {
   "cell_type": "code",
   "execution_count": 10,
   "metadata": {},
   "outputs": [],
   "source": [
    "flathu = []\n",
    "for hu in allhu:\n",
    "    flathu.append(hu.flatten())"
   ]
  },
  {
   "cell_type": "code",
   "execution_count": 12,
   "metadata": {},
   "outputs": [
    {
     "name": "stdout",
     "output_type": "stream",
     "text": [
      "20\n",
      "(35127296,)\n"
     ]
    }
   ],
   "source": [
    "print(len(flathu))\n",
    "print(flathu[0].shape) #each image is now a vector of length 35127296"
   ]
  },
  {
   "cell_type": "code",
   "execution_count": null,
   "metadata": {
    "collapsed": true
   },
   "outputs": [],
   "source": [
    "sns.clustermap(flathu)"
   ]
  },
  {
   "cell_type": "markdown",
   "metadata": {},
   "source": []
  }
 ],
 "metadata": {
  "kernelspec": {
   "display_name": "Python 3",
   "language": "python",
   "name": "python3"
  },
  "language_info": {
   "codemirror_mode": {
    "name": "ipython",
    "version": 3
   },
   "file_extension": ".py",
   "mimetype": "text/x-python",
   "name": "python",
   "nbconvert_exporter": "python",
   "pygments_lexer": "ipython3",
   "version": "3.6.3"
  }
 },
 "nbformat": 4,
 "nbformat_minor": 1
}
